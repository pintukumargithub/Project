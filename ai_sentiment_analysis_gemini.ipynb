{
  "cells": [
    {
      "cell_type": "markdown",
      "metadata": {
        "id": "view-in-github",
        "colab_type": "text"
      },
      "source": [
        "<a href=\"https://colab.research.google.com/github/pintukumargithub/Project/blob/main/ai_sentiment_analysis_gemini.ipynb\" target=\"_parent\"><img src=\"https://colab.research.google.com/assets/colab-badge.svg\" alt=\"Open In Colab\"/></a>"
      ]
    },
    {
      "cell_type": "markdown",
      "metadata": {
        "id": "I1vFhU6zYZWN"
      },
      "source": [
        "# AI Pipeline: Blue Sky Scraper + Gemini Flash Sentiment Analysis"
      ]
    },
    {
      "cell_type": "markdown",
      "metadata": {
        "id": "d5CzfshFYZWP"
      },
      "source": [
        "### Libraries"
      ]
    },
    {
      "cell_type": "code",
      "execution_count": null,
      "metadata": {
        "id": "cgJuK0xyYZWQ"
      },
      "outputs": [],
      "source": [
        "import requests\n",
        "import pandas as pd\n",
        "import google.generativeai as genai\n",
        "import enum\n",
        "from typing_extensions import TypedDict\n",
        "import json\n",
        "import plotly.express as px"
      ]
    },
    {
      "cell_type": "markdown",
      "metadata": {
        "id": "QVYwcB5NYZWQ"
      },
      "source": [
        "## 1. Configuration"
      ]
    },
    {
      "cell_type": "markdown",
      "metadata": {
        "id": "ZfbC8K0bYZWQ"
      },
      "source": [
        "### Authentication and API Keys"
      ]
    },
    {
      "cell_type": "code",
      "execution_count": null,
      "metadata": {
        "id": "Roj0dORiYZWR"
      },
      "outputs": [],
      "source": [
        "# Replace with your Bluesky handle and password\n",
        "BLUESKY_HANDLE = 'handle goes here'\n",
        "BLUESKY_PASSWORD = 'password goes here'\n",
        "\n",
        "# Replace with your Google AI Studio API key\n",
        "genai.configure(api_key='api key goes here')"
      ]
    },
    {
      "cell_type": "markdown",
      "metadata": {
        "id": "jUliXuf5YZWR"
      },
      "source": [
        "### Gemini Model"
      ]
    },
    {
      "cell_type": "code",
      "execution_count": null,
      "metadata": {
        "id": "OdiaqPvsYZWR"
      },
      "outputs": [],
      "source": [
        "model = genai.GenerativeModel(\"gemini-1.5-flash\") # gemini-2.0-flash-exp"
      ]
    },
    {
      "cell_type": "markdown",
      "metadata": {
        "id": "NopBXkejYZWR"
      },
      "source": [
        "### Stock (or keyword to analyze)"
      ]
    },
    {
      "cell_type": "code",
      "execution_count": null,
      "metadata": {
        "id": "0ayOtS29YZWR"
      },
      "outputs": [],
      "source": [
        "search_term = 'ADBE'"
      ]
    },
    {
      "cell_type": "markdown",
      "metadata": {
        "id": "frB8P9TyYZWR"
      },
      "source": [
        "### Number of posts to return"
      ]
    },
    {
      "cell_type": "code",
      "execution_count": null,
      "metadata": {
        "id": "4_4brdbeYZWR"
      },
      "outputs": [],
      "source": [
        "n = 100  # Number of latest posts to retrieve"
      ]
    },
    {
      "cell_type": "markdown",
      "metadata": {
        "id": "Teteol9SYZWR"
      },
      "source": [
        "## 2. Blue Sky Web Scraper"
      ]
    },
    {
      "cell_type": "code",
      "execution_count": null,
      "metadata": {
        "id": "LKXIrg3SYZWR"
      },
      "outputs": [],
      "source": [
        "# Authenticate and obtain access token\n",
        "auth_response = requests.post(\n",
        "    'https://bsky.social/xrpc/com.atproto.server.createSession',\n",
        "    json={'identifier': BLUESKY_HANDLE, 'password': BLUESKY_PASSWORD}\n",
        ")\n",
        "auth_response.raise_for_status()\n",
        "access_token = auth_response.json().get('accessJwt')\n"
      ]
    },
    {
      "cell_type": "code",
      "execution_count": null,
      "metadata": {
        "id": "vgzDp6vPYZWS"
      },
      "outputs": [],
      "source": [
        "# Set up the request headers with the access token\n",
        "headers = {'Authorization': f'Bearer {access_token}'}\n",
        "\n",
        "# Define the search parameters\n",
        "params = {\n",
        "    'q': search_term,\n",
        "    'sort': 'latest',\n",
        "    'limit': n\n",
        "}\n",
        "\n",
        "# Perform the search request\n",
        "search_response = requests.get(\n",
        "    'https://bsky.social/xrpc/app.bsky.feed.searchPosts',\n",
        "    headers=headers,\n",
        "    params=params\n",
        ")\n",
        "search_response.raise_for_status()\n",
        "posts = search_response.json().get('posts', [])"
      ]
    },
    {
      "cell_type": "code",
      "execution_count": null,
      "metadata": {
        "id": "FQjF7x7pYZWS"
      },
      "outputs": [],
      "source": [
        "# Extract data and create a list of dictionaries\n",
        "data = []\n",
        "for post in posts:\n",
        "    author = post.get('author', {}).get('handle', 'Unknown')\n",
        "    content = post.get('record', {}).get('text', 'No content')\n",
        "    created_at = post.get('record', {}).get('createdAt', 'Unknown date')\n",
        "    data.append({'Date': created_at, 'Content': content, 'Author': author})\n",
        "\n",
        "# Convert list of dictionaries to DataFrame\n",
        "df = pd.DataFrame(data)\n",
        "\n",
        "# Convert 'Date' column to datetime format for better handling\n",
        "df['Date'] = pd.to_datetime(df['Date'], errors='coerce')"
      ]
    },
    {
      "cell_type": "code",
      "execution_count": null,
      "metadata": {
        "id": "qQvghou8YZWS",
        "outputId": "326bc004-fb32-4681-feca-8700757340ae"
      },
      "outputs": [
        {
          "data": {
            "text/html": [
              "<div>\n",
              "<style scoped>\n",
              "    .dataframe tbody tr th:only-of-type {\n",
              "        vertical-align: middle;\n",
              "    }\n",
              "\n",
              "    .dataframe tbody tr th {\n",
              "        vertical-align: top;\n",
              "    }\n",
              "\n",
              "    .dataframe thead th {\n",
              "        text-align: right;\n",
              "    }\n",
              "</style>\n",
              "<table border=\"1\" class=\"dataframe\">\n",
              "  <thead>\n",
              "    <tr style=\"text-align: right;\">\n",
              "      <th></th>\n",
              "      <th>Date</th>\n",
              "      <th>Content</th>\n",
              "    </tr>\n",
              "  </thead>\n",
              "  <tbody>\n",
              "    <tr>\n",
              "      <th>0</th>\n",
              "      <td>2024-12-31 19:10:07.207000+00:00</td>\n",
              "      <td>\\n#MarjorieTaylorGreene Went Christmas Shoppin...</td>\n",
              "    </tr>\n",
              "    <tr>\n",
              "      <th>1</th>\n",
              "      <td>2024-12-31 17:39:40.015000+00:00</td>\n",
              "      <td>Over the past year #AJB and #ADBE swapped from...</td>\n",
              "    </tr>\n",
              "    <tr>\n",
              "      <th>2</th>\n",
              "      <td>2024-12-31 17:39:40.014000+00:00</td>\n",
              "      <td>The major changes to the port. over the year w...</td>\n",
              "    </tr>\n",
              "    <tr>\n",
              "      <th>3</th>\n",
              "      <td>2024-12-31 16:03:55.965884+00:00</td>\n",
              "      <td>📊 ADBE Market Analysis - Dec 31, 2024\\n\\nCurre...</td>\n",
              "    </tr>\n",
              "    <tr>\n",
              "      <th>4</th>\n",
              "      <td>2024-12-30 16:01:16.570000+00:00</td>\n",
              "      <td>Adobe knows that #DEI is good for people, good...</td>\n",
              "    </tr>\n",
              "    <tr>\n",
              "      <th>...</th>\n",
              "      <td>...</td>\n",
              "      <td>...</td>\n",
              "    </tr>\n",
              "    <tr>\n",
              "      <th>93</th>\n",
              "      <td>2024-12-12 17:19:22.999000+00:00</td>\n",
              "      <td>Hello, Investors! 👋\\nStocks were down modestly...</td>\n",
              "    </tr>\n",
              "    <tr>\n",
              "      <th>94</th>\n",
              "      <td>2024-12-12 16:53:12.278000+00:00</td>\n",
              "      <td>Adobe posts record-breaking revenue 📈 but inve...</td>\n",
              "    </tr>\n",
              "    <tr>\n",
              "      <th>95</th>\n",
              "      <td>2024-12-12 16:20:44.597227+00:00</td>\n",
              "      <td>$ADBE Technical Analysis | Dec 12\\nPrice: $549...</td>\n",
              "    </tr>\n",
              "    <tr>\n",
              "      <th>96</th>\n",
              "      <td>2024-12-12 15:49:51.063000+00:00</td>\n",
              "      <td>$ADBE: Adobe shares dropped 13% as its 2025 ou...</td>\n",
              "    </tr>\n",
              "    <tr>\n",
              "      <th>97</th>\n",
              "      <td>2024-12-12 15:38:39.435000+00:00</td>\n",
              "      <td>$ADBE FY-2024: Strong Q3 Perf: Rev Surpasses E...</td>\n",
              "    </tr>\n",
              "  </tbody>\n",
              "</table>\n",
              "<p>98 rows × 2 columns</p>\n",
              "</div>"
            ],
            "text/plain": [
              "                               Date  \\\n",
              "0  2024-12-31 19:10:07.207000+00:00   \n",
              "1  2024-12-31 17:39:40.015000+00:00   \n",
              "2  2024-12-31 17:39:40.014000+00:00   \n",
              "3  2024-12-31 16:03:55.965884+00:00   \n",
              "4  2024-12-30 16:01:16.570000+00:00   \n",
              "..                              ...   \n",
              "93 2024-12-12 17:19:22.999000+00:00   \n",
              "94 2024-12-12 16:53:12.278000+00:00   \n",
              "95 2024-12-12 16:20:44.597227+00:00   \n",
              "96 2024-12-12 15:49:51.063000+00:00   \n",
              "97 2024-12-12 15:38:39.435000+00:00   \n",
              "\n",
              "                                              Content  \n",
              "0   \\n#MarjorieTaylorGreene Went Christmas Shoppin...  \n",
              "1   Over the past year #AJB and #ADBE swapped from...  \n",
              "2   The major changes to the port. over the year w...  \n",
              "3   📊 ADBE Market Analysis - Dec 31, 2024\\n\\nCurre...  \n",
              "4   Adobe knows that #DEI is good for people, good...  \n",
              "..                                                ...  \n",
              "93  Hello, Investors! 👋\\nStocks were down modestly...  \n",
              "94  Adobe posts record-breaking revenue 📈 but inve...  \n",
              "95  $ADBE Technical Analysis | Dec 12\\nPrice: $549...  \n",
              "96  $ADBE: Adobe shares dropped 13% as its 2025 ou...  \n",
              "97  $ADBE FY-2024: Strong Q3 Perf: Rev Surpasses E...  \n",
              "\n",
              "[98 rows x 2 columns]"
            ]
          },
          "execution_count": 9,
          "metadata": {},
          "output_type": "execute_result"
        }
      ],
      "source": [
        "# Display the DataFrame\n",
        "df[['Date','Content']]"
      ]
    },
    {
      "cell_type": "markdown",
      "metadata": {
        "id": "ITXPL90lYZWS"
      },
      "source": [
        "## 3. Google Gemini Sentiment Analysis"
      ]
    },
    {
      "cell_type": "code",
      "execution_count": null,
      "metadata": {
        "id": "cmAhwzAtYZWS"
      },
      "outputs": [],
      "source": [
        "class Sentiment(enum.Enum):\n",
        "    POSITIVE = \"positive\"\n",
        "    NEGATIVE = \"negative\"\n",
        "    NEUTRAL = \"neutral\"\n",
        "\n",
        "class AnalysisResult(TypedDict):\n",
        "    is_stock_related: bool\n",
        "    sentiment: Sentiment\n"
      ]
    },
    {
      "cell_type": "code",
      "execution_count": null,
      "metadata": {
        "id": "FnlAUzZUYZWT"
      },
      "outputs": [],
      "source": [
        "\n",
        "def analyze_post(content: str) -> AnalysisResult:\n",
        "    prompt = f\"\"\"\n",
        "    Analyze the following post and determine:\n",
        "    1. Whether it is related to the company, {search_term}, and relates to or discusses\n",
        "        past, current, or future stock performance of {search_term} explicitly.\n",
        "    2. If related, classify the sentiment as positive, negative, or neutral.\n",
        "\n",
        "    Post: \"{content}\"\n",
        "    \"\"\"\n",
        "    response = model.generate_content(\n",
        "        prompt,\n",
        "        generation_config=genai.GenerationConfig(\n",
        "            response_mime_type=\"application/json\",\n",
        "            response_schema=AnalysisResult\n",
        "        )\n",
        "    )\n",
        "    if response.candidates:\n",
        "        candidate_content = response.candidates[0].content\n",
        "        result_text = ''.join(part.text for part in candidate_content.parts)\n",
        "        try:\n",
        "            result = json.loads(result_text)\n",
        "            is_stock_related = result.get('is_stock_related')\n",
        "            sentiment = result.get('sentiment')\n",
        "            if is_stock_related is not None and sentiment is not None:\n",
        "                return is_stock_related, sentiment\n",
        "            else:\n",
        "                print(\"Missing expected keys in the response\")\n",
        "                return None, None\n",
        "        except json.JSONDecodeError:\n",
        "            print(\"Failed to decode JSON response\")\n",
        "            return None, None\n",
        "    else:\n",
        "        print(\"No candidates returned\")\n",
        "        return None, None\n"
      ]
    },
    {
      "cell_type": "code",
      "execution_count": null,
      "metadata": {
        "id": "BKB7YVl6YZWT",
        "outputId": "9a07a15e-c816-4aa5-856c-5fc8725af9a5"
      },
      "outputs": [
        {
          "name": "stdout",
          "output_type": "stream",
          "text": [
            "Missing expected keys in the response\n",
            "Missing expected keys in the response\n"
          ]
        }
      ],
      "source": [
        "# Apply the analysis to each post\n",
        "df[['is_stock_related', 'sentiment']] = df['Content'].apply(\n",
        "    lambda x: pd.Series(analyze_post(x))\n",
        ")"
      ]
    },
    {
      "cell_type": "code",
      "execution_count": null,
      "metadata": {
        "id": "px8SVLj2YZWT",
        "outputId": "c91b4b0b-9e8d-4f94-89ff-684d1f769da2"
      },
      "outputs": [
        {
          "data": {
            "text/html": [
              "<div>\n",
              "<style scoped>\n",
              "    .dataframe tbody tr th:only-of-type {\n",
              "        vertical-align: middle;\n",
              "    }\n",
              "\n",
              "    .dataframe tbody tr th {\n",
              "        vertical-align: top;\n",
              "    }\n",
              "\n",
              "    .dataframe thead th {\n",
              "        text-align: right;\n",
              "    }\n",
              "</style>\n",
              "<table border=\"1\" class=\"dataframe\">\n",
              "  <thead>\n",
              "    <tr style=\"text-align: right;\">\n",
              "      <th></th>\n",
              "      <th>Date</th>\n",
              "      <th>Content</th>\n",
              "      <th>is_stock_related</th>\n",
              "      <th>sentiment</th>\n",
              "    </tr>\n",
              "  </thead>\n",
              "  <tbody>\n",
              "    <tr>\n",
              "      <th>0</th>\n",
              "      <td>2024-12-31 19:10:07.207000+00:00</td>\n",
              "      <td>\\n#MarjorieTaylorGreene Went Christmas Shoppin...</td>\n",
              "      <td>True</td>\n",
              "      <td>neutral</td>\n",
              "    </tr>\n",
              "    <tr>\n",
              "      <th>1</th>\n",
              "      <td>2024-12-31 17:39:40.015000+00:00</td>\n",
              "      <td>Over the past year #AJB and #ADBE swapped from...</td>\n",
              "      <td>True</td>\n",
              "      <td>neutral</td>\n",
              "    </tr>\n",
              "    <tr>\n",
              "      <th>2</th>\n",
              "      <td>2024-12-31 17:39:40.014000+00:00</td>\n",
              "      <td>The major changes to the port. over the year w...</td>\n",
              "      <td>True</td>\n",
              "      <td>negative</td>\n",
              "    </tr>\n",
              "    <tr>\n",
              "      <th>3</th>\n",
              "      <td>2024-12-31 16:03:55.965884+00:00</td>\n",
              "      <td>📊 ADBE Market Analysis - Dec 31, 2024\\n\\nCurre...</td>\n",
              "      <td>True</td>\n",
              "      <td>negative</td>\n",
              "    </tr>\n",
              "    <tr>\n",
              "      <th>4</th>\n",
              "      <td>2024-12-30 16:01:16.570000+00:00</td>\n",
              "      <td>Adobe knows that #DEI is good for people, good...</td>\n",
              "      <td>True</td>\n",
              "      <td>positive</td>\n",
              "    </tr>\n",
              "    <tr>\n",
              "      <th>...</th>\n",
              "      <td>...</td>\n",
              "      <td>...</td>\n",
              "      <td>...</td>\n",
              "      <td>...</td>\n",
              "    </tr>\n",
              "    <tr>\n",
              "      <th>93</th>\n",
              "      <td>2024-12-12 17:19:22.999000+00:00</td>\n",
              "      <td>Hello, Investors! 👋\\nStocks were down modestly...</td>\n",
              "      <td>True</td>\n",
              "      <td>negative</td>\n",
              "    </tr>\n",
              "    <tr>\n",
              "      <th>94</th>\n",
              "      <td>2024-12-12 16:53:12.278000+00:00</td>\n",
              "      <td>Adobe posts record-breaking revenue 📈 but inve...</td>\n",
              "      <td>True</td>\n",
              "      <td>negative</td>\n",
              "    </tr>\n",
              "    <tr>\n",
              "      <th>95</th>\n",
              "      <td>2024-12-12 16:20:44.597227+00:00</td>\n",
              "      <td>$ADBE Technical Analysis | Dec 12\\nPrice: $549...</td>\n",
              "      <td>True</td>\n",
              "      <td>positive</td>\n",
              "    </tr>\n",
              "    <tr>\n",
              "      <th>96</th>\n",
              "      <td>2024-12-12 15:49:51.063000+00:00</td>\n",
              "      <td>$ADBE: Adobe shares dropped 13% as its 2025 ou...</td>\n",
              "      <td>True</td>\n",
              "      <td>negative</td>\n",
              "    </tr>\n",
              "    <tr>\n",
              "      <th>97</th>\n",
              "      <td>2024-12-12 15:38:39.435000+00:00</td>\n",
              "      <td>$ADBE FY-2024: Strong Q3 Perf: Rev Surpasses E...</td>\n",
              "      <td>True</td>\n",
              "      <td>positive</td>\n",
              "    </tr>\n",
              "  </tbody>\n",
              "</table>\n",
              "<p>98 rows × 4 columns</p>\n",
              "</div>"
            ],
            "text/plain": [
              "                               Date  \\\n",
              "0  2024-12-31 19:10:07.207000+00:00   \n",
              "1  2024-12-31 17:39:40.015000+00:00   \n",
              "2  2024-12-31 17:39:40.014000+00:00   \n",
              "3  2024-12-31 16:03:55.965884+00:00   \n",
              "4  2024-12-30 16:01:16.570000+00:00   \n",
              "..                              ...   \n",
              "93 2024-12-12 17:19:22.999000+00:00   \n",
              "94 2024-12-12 16:53:12.278000+00:00   \n",
              "95 2024-12-12 16:20:44.597227+00:00   \n",
              "96 2024-12-12 15:49:51.063000+00:00   \n",
              "97 2024-12-12 15:38:39.435000+00:00   \n",
              "\n",
              "                                              Content is_stock_related  \\\n",
              "0   \\n#MarjorieTaylorGreene Went Christmas Shoppin...             True   \n",
              "1   Over the past year #AJB and #ADBE swapped from...             True   \n",
              "2   The major changes to the port. over the year w...             True   \n",
              "3   📊 ADBE Market Analysis - Dec 31, 2024\\n\\nCurre...             True   \n",
              "4   Adobe knows that #DEI is good for people, good...             True   \n",
              "..                                                ...              ...   \n",
              "93  Hello, Investors! 👋\\nStocks were down modestly...             True   \n",
              "94  Adobe posts record-breaking revenue 📈 but inve...             True   \n",
              "95  $ADBE Technical Analysis | Dec 12\\nPrice: $549...             True   \n",
              "96  $ADBE: Adobe shares dropped 13% as its 2025 ou...             True   \n",
              "97  $ADBE FY-2024: Strong Q3 Perf: Rev Surpasses E...             True   \n",
              "\n",
              "   sentiment  \n",
              "0    neutral  \n",
              "1    neutral  \n",
              "2   negative  \n",
              "3   negative  \n",
              "4   positive  \n",
              "..       ...  \n",
              "93  negative  \n",
              "94  negative  \n",
              "95  positive  \n",
              "96  negative  \n",
              "97  positive  \n",
              "\n",
              "[98 rows x 4 columns]"
            ]
          },
          "execution_count": 13,
          "metadata": {},
          "output_type": "execute_result"
        }
      ],
      "source": [
        "df.drop(columns='Author',inplace=True)\n",
        "df"
      ]
    },
    {
      "cell_type": "code",
      "execution_count": null,
      "metadata": {
        "id": "PnoZGUaZYZWT",
        "outputId": "607944c4-a5f5-4fa2-ce23-149f1a72ce45"
      },
      "outputs": [
        {
          "name": "stderr",
          "output_type": "stream",
          "text": [
            "/var/folders/f0/lv4rn9cj3773mrlxlb1vmf380000gn/T/ipykernel_57740/2799276885.py:5: SettingWithCopyWarning:\n",
            "\n",
            "\n",
            "A value is trying to be set on a copy of a slice from a DataFrame.\n",
            "Try using .loc[row_indexer,col_indexer] = value instead\n",
            "\n",
            "See the caveats in the documentation: https://pandas.pydata.org/pandas-docs/stable/user_guide/indexing.html#returning-a-view-versus-a-copy\n",
            "\n"
          ]
        },
        {
          "data": {
            "application/vnd.plotly.v1+json": {
              "config": {
                "plotlyServerURL": "https://plot.ly"
              },
              "data": [
                {
                  "hovertemplate": "Date=%{x}<br>Positive Sentiment Score=%{y}<extra></extra>",
                  "legendgroup": "",
                  "line": {
                    "color": "#636efa",
                    "dash": "solid"
                  },
                  "marker": {
                    "symbol": "circle"
                  },
                  "mode": "lines+markers",
                  "name": "",
                  "orientation": "v",
                  "showlegend": false,
                  "type": "scatter",
                  "x": [
                    "2024-12-12",
                    "2024-12-13",
                    "2024-12-14",
                    "2024-12-15",
                    "2024-12-16",
                    "2024-12-17",
                    "2024-12-18",
                    "2024-12-19",
                    "2024-12-20",
                    "2024-12-22",
                    "2024-12-23",
                    "2024-12-24",
                    "2024-12-26",
                    "2024-12-27",
                    "2024-12-30",
                    "2024-12-31"
                  ],
                  "xaxis": "x",
                  "y": [
                    0.18181818181818182,
                    0.18181818181818182,
                    0,
                    0.5,
                    0.25,
                    0,
                    0,
                    0.3333333333333333,
                    0.75,
                    0.6666666666666666,
                    1,
                    0.5,
                    0.5,
                    1,
                    1,
                    0
                  ],
                  "yaxis": "y"
                }
              ],
              "layout": {
                "legend": {
                  "tracegroupgap": 0
                },
                "template": {
                  "data": {
                    "bar": [
                      {
                        "error_x": {
                          "color": "#2a3f5f"
                        },
                        "error_y": {
                          "color": "#2a3f5f"
                        },
                        "marker": {
                          "line": {
                            "color": "#E5ECF6",
                            "width": 0.5
                          },
                          "pattern": {
                            "fillmode": "overlay",
                            "size": 10,
                            "solidity": 0.2
                          }
                        },
                        "type": "bar"
                      }
                    ],
                    "barpolar": [
                      {
                        "marker": {
                          "line": {
                            "color": "#E5ECF6",
                            "width": 0.5
                          },
                          "pattern": {
                            "fillmode": "overlay",
                            "size": 10,
                            "solidity": 0.2
                          }
                        },
                        "type": "barpolar"
                      }
                    ],
                    "carpet": [
                      {
                        "aaxis": {
                          "endlinecolor": "#2a3f5f",
                          "gridcolor": "white",
                          "linecolor": "white",
                          "minorgridcolor": "white",
                          "startlinecolor": "#2a3f5f"
                        },
                        "baxis": {
                          "endlinecolor": "#2a3f5f",
                          "gridcolor": "white",
                          "linecolor": "white",
                          "minorgridcolor": "white",
                          "startlinecolor": "#2a3f5f"
                        },
                        "type": "carpet"
                      }
                    ],
                    "choropleth": [
                      {
                        "colorbar": {
                          "outlinewidth": 0,
                          "ticks": ""
                        },
                        "type": "choropleth"
                      }
                    ],
                    "contour": [
                      {
                        "colorbar": {
                          "outlinewidth": 0,
                          "ticks": ""
                        },
                        "colorscale": [
                          [
                            0,
                            "#0d0887"
                          ],
                          [
                            0.1111111111111111,
                            "#46039f"
                          ],
                          [
                            0.2222222222222222,
                            "#7201a8"
                          ],
                          [
                            0.3333333333333333,
                            "#9c179e"
                          ],
                          [
                            0.4444444444444444,
                            "#bd3786"
                          ],
                          [
                            0.5555555555555556,
                            "#d8576b"
                          ],
                          [
                            0.6666666666666666,
                            "#ed7953"
                          ],
                          [
                            0.7777777777777778,
                            "#fb9f3a"
                          ],
                          [
                            0.8888888888888888,
                            "#fdca26"
                          ],
                          [
                            1,
                            "#f0f921"
                          ]
                        ],
                        "type": "contour"
                      }
                    ],
                    "contourcarpet": [
                      {
                        "colorbar": {
                          "outlinewidth": 0,
                          "ticks": ""
                        },
                        "type": "contourcarpet"
                      }
                    ],
                    "heatmap": [
                      {
                        "colorbar": {
                          "outlinewidth": 0,
                          "ticks": ""
                        },
                        "colorscale": [
                          [
                            0,
                            "#0d0887"
                          ],
                          [
                            0.1111111111111111,
                            "#46039f"
                          ],
                          [
                            0.2222222222222222,
                            "#7201a8"
                          ],
                          [
                            0.3333333333333333,
                            "#9c179e"
                          ],
                          [
                            0.4444444444444444,
                            "#bd3786"
                          ],
                          [
                            0.5555555555555556,
                            "#d8576b"
                          ],
                          [
                            0.6666666666666666,
                            "#ed7953"
                          ],
                          [
                            0.7777777777777778,
                            "#fb9f3a"
                          ],
                          [
                            0.8888888888888888,
                            "#fdca26"
                          ],
                          [
                            1,
                            "#f0f921"
                          ]
                        ],
                        "type": "heatmap"
                      }
                    ],
                    "heatmapgl": [
                      {
                        "colorbar": {
                          "outlinewidth": 0,
                          "ticks": ""
                        },
                        "colorscale": [
                          [
                            0,
                            "#0d0887"
                          ],
                          [
                            0.1111111111111111,
                            "#46039f"
                          ],
                          [
                            0.2222222222222222,
                            "#7201a8"
                          ],
                          [
                            0.3333333333333333,
                            "#9c179e"
                          ],
                          [
                            0.4444444444444444,
                            "#bd3786"
                          ],
                          [
                            0.5555555555555556,
                            "#d8576b"
                          ],
                          [
                            0.6666666666666666,
                            "#ed7953"
                          ],
                          [
                            0.7777777777777778,
                            "#fb9f3a"
                          ],
                          [
                            0.8888888888888888,
                            "#fdca26"
                          ],
                          [
                            1,
                            "#f0f921"
                          ]
                        ],
                        "type": "heatmapgl"
                      }
                    ],
                    "histogram": [
                      {
                        "marker": {
                          "pattern": {
                            "fillmode": "overlay",
                            "size": 10,
                            "solidity": 0.2
                          }
                        },
                        "type": "histogram"
                      }
                    ],
                    "histogram2d": [
                      {
                        "colorbar": {
                          "outlinewidth": 0,
                          "ticks": ""
                        },
                        "colorscale": [
                          [
                            0,
                            "#0d0887"
                          ],
                          [
                            0.1111111111111111,
                            "#46039f"
                          ],
                          [
                            0.2222222222222222,
                            "#7201a8"
                          ],
                          [
                            0.3333333333333333,
                            "#9c179e"
                          ],
                          [
                            0.4444444444444444,
                            "#bd3786"
                          ],
                          [
                            0.5555555555555556,
                            "#d8576b"
                          ],
                          [
                            0.6666666666666666,
                            "#ed7953"
                          ],
                          [
                            0.7777777777777778,
                            "#fb9f3a"
                          ],
                          [
                            0.8888888888888888,
                            "#fdca26"
                          ],
                          [
                            1,
                            "#f0f921"
                          ]
                        ],
                        "type": "histogram2d"
                      }
                    ],
                    "histogram2dcontour": [
                      {
                        "colorbar": {
                          "outlinewidth": 0,
                          "ticks": ""
                        },
                        "colorscale": [
                          [
                            0,
                            "#0d0887"
                          ],
                          [
                            0.1111111111111111,
                            "#46039f"
                          ],
                          [
                            0.2222222222222222,
                            "#7201a8"
                          ],
                          [
                            0.3333333333333333,
                            "#9c179e"
                          ],
                          [
                            0.4444444444444444,
                            "#bd3786"
                          ],
                          [
                            0.5555555555555556,
                            "#d8576b"
                          ],
                          [
                            0.6666666666666666,
                            "#ed7953"
                          ],
                          [
                            0.7777777777777778,
                            "#fb9f3a"
                          ],
                          [
                            0.8888888888888888,
                            "#fdca26"
                          ],
                          [
                            1,
                            "#f0f921"
                          ]
                        ],
                        "type": "histogram2dcontour"
                      }
                    ],
                    "mesh3d": [
                      {
                        "colorbar": {
                          "outlinewidth": 0,
                          "ticks": ""
                        },
                        "type": "mesh3d"
                      }
                    ],
                    "parcoords": [
                      {
                        "line": {
                          "colorbar": {
                            "outlinewidth": 0,
                            "ticks": ""
                          }
                        },
                        "type": "parcoords"
                      }
                    ],
                    "pie": [
                      {
                        "automargin": true,
                        "type": "pie"
                      }
                    ],
                    "scatter": [
                      {
                        "fillpattern": {
                          "fillmode": "overlay",
                          "size": 10,
                          "solidity": 0.2
                        },
                        "type": "scatter"
                      }
                    ],
                    "scatter3d": [
                      {
                        "line": {
                          "colorbar": {
                            "outlinewidth": 0,
                            "ticks": ""
                          }
                        },
                        "marker": {
                          "colorbar": {
                            "outlinewidth": 0,
                            "ticks": ""
                          }
                        },
                        "type": "scatter3d"
                      }
                    ],
                    "scattercarpet": [
                      {
                        "marker": {
                          "colorbar": {
                            "outlinewidth": 0,
                            "ticks": ""
                          }
                        },
                        "type": "scattercarpet"
                      }
                    ],
                    "scattergeo": [
                      {
                        "marker": {
                          "colorbar": {
                            "outlinewidth": 0,
                            "ticks": ""
                          }
                        },
                        "type": "scattergeo"
                      }
                    ],
                    "scattergl": [
                      {
                        "marker": {
                          "colorbar": {
                            "outlinewidth": 0,
                            "ticks": ""
                          }
                        },
                        "type": "scattergl"
                      }
                    ],
                    "scattermapbox": [
                      {
                        "marker": {
                          "colorbar": {
                            "outlinewidth": 0,
                            "ticks": ""
                          }
                        },
                        "type": "scattermapbox"
                      }
                    ],
                    "scatterpolar": [
                      {
                        "marker": {
                          "colorbar": {
                            "outlinewidth": 0,
                            "ticks": ""
                          }
                        },
                        "type": "scatterpolar"
                      }
                    ],
                    "scatterpolargl": [
                      {
                        "marker": {
                          "colorbar": {
                            "outlinewidth": 0,
                            "ticks": ""
                          }
                        },
                        "type": "scatterpolargl"
                      }
                    ],
                    "scatterternary": [
                      {
                        "marker": {
                          "colorbar": {
                            "outlinewidth": 0,
                            "ticks": ""
                          }
                        },
                        "type": "scatterternary"
                      }
                    ],
                    "surface": [
                      {
                        "colorbar": {
                          "outlinewidth": 0,
                          "ticks": ""
                        },
                        "colorscale": [
                          [
                            0,
                            "#0d0887"
                          ],
                          [
                            0.1111111111111111,
                            "#46039f"
                          ],
                          [
                            0.2222222222222222,
                            "#7201a8"
                          ],
                          [
                            0.3333333333333333,
                            "#9c179e"
                          ],
                          [
                            0.4444444444444444,
                            "#bd3786"
                          ],
                          [
                            0.5555555555555556,
                            "#d8576b"
                          ],
                          [
                            0.6666666666666666,
                            "#ed7953"
                          ],
                          [
                            0.7777777777777778,
                            "#fb9f3a"
                          ],
                          [
                            0.8888888888888888,
                            "#fdca26"
                          ],
                          [
                            1,
                            "#f0f921"
                          ]
                        ],
                        "type": "surface"
                      }
                    ],
                    "table": [
                      {
                        "cells": {
                          "fill": {
                            "color": "#EBF0F8"
                          },
                          "line": {
                            "color": "white"
                          }
                        },
                        "header": {
                          "fill": {
                            "color": "#C8D4E3"
                          },
                          "line": {
                            "color": "white"
                          }
                        },
                        "type": "table"
                      }
                    ]
                  },
                  "layout": {
                    "annotationdefaults": {
                      "arrowcolor": "#2a3f5f",
                      "arrowhead": 0,
                      "arrowwidth": 1
                    },
                    "autotypenumbers": "strict",
                    "coloraxis": {
                      "colorbar": {
                        "outlinewidth": 0,
                        "ticks": ""
                      }
                    },
                    "colorscale": {
                      "diverging": [
                        [
                          0,
                          "#8e0152"
                        ],
                        [
                          0.1,
                          "#c51b7d"
                        ],
                        [
                          0.2,
                          "#de77ae"
                        ],
                        [
                          0.3,
                          "#f1b6da"
                        ],
                        [
                          0.4,
                          "#fde0ef"
                        ],
                        [
                          0.5,
                          "#f7f7f7"
                        ],
                        [
                          0.6,
                          "#e6f5d0"
                        ],
                        [
                          0.7,
                          "#b8e186"
                        ],
                        [
                          0.8,
                          "#7fbc41"
                        ],
                        [
                          0.9,
                          "#4d9221"
                        ],
                        [
                          1,
                          "#276419"
                        ]
                      ],
                      "sequential": [
                        [
                          0,
                          "#0d0887"
                        ],
                        [
                          0.1111111111111111,
                          "#46039f"
                        ],
                        [
                          0.2222222222222222,
                          "#7201a8"
                        ],
                        [
                          0.3333333333333333,
                          "#9c179e"
                        ],
                        [
                          0.4444444444444444,
                          "#bd3786"
                        ],
                        [
                          0.5555555555555556,
                          "#d8576b"
                        ],
                        [
                          0.6666666666666666,
                          "#ed7953"
                        ],
                        [
                          0.7777777777777778,
                          "#fb9f3a"
                        ],
                        [
                          0.8888888888888888,
                          "#fdca26"
                        ],
                        [
                          1,
                          "#f0f921"
                        ]
                      ],
                      "sequentialminus": [
                        [
                          0,
                          "#0d0887"
                        ],
                        [
                          0.1111111111111111,
                          "#46039f"
                        ],
                        [
                          0.2222222222222222,
                          "#7201a8"
                        ],
                        [
                          0.3333333333333333,
                          "#9c179e"
                        ],
                        [
                          0.4444444444444444,
                          "#bd3786"
                        ],
                        [
                          0.5555555555555556,
                          "#d8576b"
                        ],
                        [
                          0.6666666666666666,
                          "#ed7953"
                        ],
                        [
                          0.7777777777777778,
                          "#fb9f3a"
                        ],
                        [
                          0.8888888888888888,
                          "#fdca26"
                        ],
                        [
                          1,
                          "#f0f921"
                        ]
                      ]
                    },
                    "colorway": [
                      "#636efa",
                      "#EF553B",
                      "#00cc96",
                      "#ab63fa",
                      "#FFA15A",
                      "#19d3f3",
                      "#FF6692",
                      "#B6E880",
                      "#FF97FF",
                      "#FECB52"
                    ],
                    "font": {
                      "color": "#2a3f5f"
                    },
                    "geo": {
                      "bgcolor": "white",
                      "lakecolor": "white",
                      "landcolor": "#E5ECF6",
                      "showlakes": true,
                      "showland": true,
                      "subunitcolor": "white"
                    },
                    "hoverlabel": {
                      "align": "left"
                    },
                    "hovermode": "closest",
                    "mapbox": {
                      "style": "light"
                    },
                    "paper_bgcolor": "white",
                    "plot_bgcolor": "#E5ECF6",
                    "polar": {
                      "angularaxis": {
                        "gridcolor": "white",
                        "linecolor": "white",
                        "ticks": ""
                      },
                      "bgcolor": "#E5ECF6",
                      "radialaxis": {
                        "gridcolor": "white",
                        "linecolor": "white",
                        "ticks": ""
                      }
                    },
                    "scene": {
                      "xaxis": {
                        "backgroundcolor": "#E5ECF6",
                        "gridcolor": "white",
                        "gridwidth": 2,
                        "linecolor": "white",
                        "showbackground": true,
                        "ticks": "",
                        "zerolinecolor": "white"
                      },
                      "yaxis": {
                        "backgroundcolor": "#E5ECF6",
                        "gridcolor": "white",
                        "gridwidth": 2,
                        "linecolor": "white",
                        "showbackground": true,
                        "ticks": "",
                        "zerolinecolor": "white"
                      },
                      "zaxis": {
                        "backgroundcolor": "#E5ECF6",
                        "gridcolor": "white",
                        "gridwidth": 2,
                        "linecolor": "white",
                        "showbackground": true,
                        "ticks": "",
                        "zerolinecolor": "white"
                      }
                    },
                    "shapedefaults": {
                      "line": {
                        "color": "#2a3f5f"
                      }
                    },
                    "ternary": {
                      "aaxis": {
                        "gridcolor": "white",
                        "linecolor": "white",
                        "ticks": ""
                      },
                      "baxis": {
                        "gridcolor": "white",
                        "linecolor": "white",
                        "ticks": ""
                      },
                      "bgcolor": "#E5ECF6",
                      "caxis": {
                        "gridcolor": "white",
                        "linecolor": "white",
                        "ticks": ""
                      }
                    },
                    "title": {
                      "x": 0.05
                    },
                    "xaxis": {
                      "automargin": true,
                      "gridcolor": "white",
                      "linecolor": "white",
                      "ticks": "",
                      "title": {
                        "standoff": 15
                      },
                      "zerolinecolor": "white",
                      "zerolinewidth": 2
                    },
                    "yaxis": {
                      "automargin": true,
                      "gridcolor": "white",
                      "linecolor": "white",
                      "ticks": "",
                      "title": {
                        "standoff": 15
                      },
                      "zerolinecolor": "white",
                      "zerolinewidth": 2
                    }
                  }
                },
                "title": {
                  "text": "Daily Positive Sentiment Score"
                },
                "xaxis": {
                  "anchor": "y",
                  "domain": [
                    0,
                    1
                  ],
                  "dtick": "D",
                  "tickformat": "%Y-%m-%d",
                  "title": {
                    "text": "Date"
                  }
                },
                "yaxis": {
                  "anchor": "x",
                  "domain": [
                    0,
                    1
                  ],
                  "title": {
                    "text": "Positive Sentiment Score"
                  }
                }
              }
            }
          },
          "metadata": {},
          "output_type": "display_data"
        }
      ],
      "source": [
        "# Filter out neutral sentiment\n",
        "filtered_df = df[df['sentiment'] != 'neutral']\n",
        "\n",
        "# Extract the date (day only) and calculate daily positive sentiment score\n",
        "filtered_df['Day'] = filtered_df['Date'].dt.date\n",
        "daily_sentiment = (\n",
        "    filtered_df.groupby('Day')['sentiment']\n",
        "    .apply(lambda x: (x == 'positive').sum() / len(x))\n",
        "    .reset_index(name='positive_sentiment_score')\n",
        ")\n",
        "\n",
        "# Plot the daily sentiment score\n",
        "fig = px.line(\n",
        "    daily_sentiment,\n",
        "    x='Day',\n",
        "    y='positive_sentiment_score',\n",
        "    title='Daily Positive Sentiment Score',\n",
        "    labels={'positive_sentiment_score': 'Positive Sentiment Score', 'Day': 'Date'},\n",
        "    markers=True,\n",
        ")\n",
        "\n",
        "fig.update_xaxes(dtick=\"D\", tickformat=\"%Y-%m-%d\")\n",
        "\n",
        "\n",
        "fig"
      ]
    }
  ],
  "metadata": {
    "kernelspec": {
      "display_name": "general_env",
      "language": "python",
      "name": "python3"
    },
    "language_info": {
      "codemirror_mode": {
        "name": "ipython",
        "version": 3
      },
      "file_extension": ".py",
      "mimetype": "text/x-python",
      "name": "python",
      "nbconvert_exporter": "python",
      "pygments_lexer": "ipython3",
      "version": "3.12.3"
    },
    "colab": {
      "provenance": [],
      "include_colab_link": true
    }
  },
  "nbformat": 4,
  "nbformat_minor": 0
}